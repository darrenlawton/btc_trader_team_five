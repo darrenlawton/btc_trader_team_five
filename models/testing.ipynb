{
 "cells": [
  {
   "cell_type": "code",
   "execution_count": 2,
   "metadata": {},
   "outputs": [],
   "source": [
    "import os\n",
    "os.chdir(os.path.abspath(os.path.join(os.getcwd() ,\"..\")))"
   ]
  },
  {
   "cell_type": "code",
   "execution_count": 39,
   "metadata": {},
   "outputs": [],
   "source": [
    "import joblib\n",
    "import warnings\n",
    "import src.data.sql_functions as sql\n",
    "import src.data.data_transformation as cln\n",
    "import pandas_ta as pta\n",
    "from sklearn.preprocessing import RobustScaler"
   ]
  },
  {
   "cell_type": "code",
   "execution_count": 35,
   "metadata": {},
   "outputs": [],
   "source": [
    "# Global variables\n",
    "warnings.filterwarnings(\"ignore\")\n",
    "DB_SERVER   = \"tcp:AUCLD04018656,1433\"\n",
    "DB_NAME     = \"team_five_aiml_group\"\n",
    "select_features = ['activeaddresses_btc', 'bitcoin_confirmationtime', 'bitcoin_difficulty',\n",
    "       'bitcoin_transaction', 'bitcoin_transactionfees', 'fee_to_reward_btc',\n",
    "       'google_trends_btc', 'mediantransactionvalue_btc', 'mkt_Volume',\n",
    "       'sentinusd_btc', 't_closing_roc', 't_closing_rsi', 't_closing_var',\n",
    "       't_range', 'top100cap_btc', 'transactionvalue_btc', 'tweets_btc']\n",
    "LIST_CONVERT_FLOAT = [\n",
    "'bitcoin_transaction'                       \n",
    ",'size_btc'                                  \n",
    ",'sentbyaddress_btc'                         \n",
    ",'bitcoin_difficulty'                        \n",
    ",'bitcoin_hashrate'                          \n",
    ",'bitcoin_mining_profitability'              \n",
    ",'sentinusd_btc'                             \n",
    ",'bitcoin_transactionfees'                   \n",
    ",'bitcoin_median_transaction_fee'            \n",
    ",'bitcoin_confirmationtime'                  \n",
    ",'transactionvalue_btc'                      \n",
    ",'mediantransactionvalue_btc'                \n",
    ",'tweets_btc'                                \n",
    ",'google_trends_btc'                         \n",
    ",'activeaddresses_btc'                       \n",
    ",'top100cap_btc'                             \n",
    ",'fee_to_reward_btc'] \n",
    "SMOOTHING_RANGE = 5"
   ]
  },
  {
   "cell_type": "code",
   "execution_count": 12,
   "metadata": {},
   "outputs": [],
   "source": [
    "# Later you can load it like this:\n",
    "model = joblib.load('models/test_btc.mod')"
   ]
  },
  {
   "cell_type": "code",
   "execution_count": 15,
   "metadata": {},
   "outputs": [
    {
     "data": {
      "text/plain": [
       "<bound method SqlDb.__del__ of <src.data.sql_functions.SqlDb object at 0x000001CC3C541CA0>>"
      ]
     },
     "execution_count": 15,
     "metadata": {},
     "output_type": "execute_result"
    }
   ],
   "source": [
    "# Get market/supp data from database\n",
    "conn = sql.SqlDb(DB_SERVER, DB_NAME)\n",
    "get_query = \"SELECT * FROM [{db}].[dbo].BTC_AUD_{dt} A LEFT JOIN [{db}].[dbo].BTC_SUPP_DATA_{dt} B ON A.mkt_Date = B.supp_date\".format(db=DB_NAME, dt=\"20130101_20230416\")\n",
    "df_btc_input = conn.query(get_query, True)\n",
    "conn.__del__"
   ]
  },
  {
   "cell_type": "code",
   "execution_count": 44,
   "metadata": {},
   "outputs": [],
   "source": [
    "\n",
    "df_btc_input['t_plus_1_Close'] = df_btc_input['mkt_Close'].shift(-1)\n",
    "df_btc_input['t_plus_1_Return'] = df_btc_input['mkt_Close'].pct_change(1)\n",
    "df_btc_input['t_range'] = df_btc_input['mkt_High'] - df_btc_input['mkt_Low'] \n",
    "df_btc_input['t_closing_var'] = pta.variance(df_btc_input['mkt_Close'], SMOOTHING_RANGE)\n",
    "df_btc_input['t_closing_rsi'] = pta.rsi(df_btc_input['mkt_Close'], SMOOTHING_RANGE)\n",
    "df_btc_input['t_closing_roc'] = pta.roc(df_btc_input['mkt_Close'],SMOOTHING_RANGE)\n",
    "\n",
    "for c in LIST_CONVERT_FLOAT:\n",
    "     df_btc_input[c] = df_btc_input[c].astype(float) \n",
    "\n",
    "clean_df_btc_input = cln.clean_df(df_btc_input)\n",
    "\n",
    "scaler = RobustScaler()\n",
    "x = clean_df_btc_input\n",
    "x[select_features] = scaler.fit_transform(x[select_features])"
   ]
  },
  {
   "cell_type": "code",
   "execution_count": 45,
   "metadata": {},
   "outputs": [],
   "source": [
    "inp_feat = x[x['mkt_Date'] == '2023-04-14']"
   ]
  },
  {
   "cell_type": "code",
   "execution_count": 46,
   "metadata": {},
   "outputs": [],
   "source": [
    "pred_return = model.predict(inp_feat[select_features])[0]"
   ]
  },
  {
   "cell_type": "code",
   "execution_count": 55,
   "metadata": {},
   "outputs": [
    {
     "name": "stdout",
     "output_type": "stream",
     "text": [
      "Our prediction for 2023-04-15 is: 3131    45695.394519\n",
      "Name: mkt_Close, dtype: float64\n",
      "But, the actual closing price was: 3132    45460.335938\n",
      "Name: mkt_Close, dtype: float64\n"
     ]
    }
   ],
   "source": [
    "print(\"Our prediction for 2023-04-15 is: {}\".format((1 + pred_return) * clean_df_btc_input[clean_df_btc_input['mkt_Date'] == '2023-04-14']['mkt_Close']))\n",
    "print(\"But, the actual closing price was: {}\".format(clean_df_btc_input[clean_df_btc_input['mkt_Date'] == '2023-04-15']['mkt_Close']))"
   ]
  },
  {
   "cell_type": "code",
   "execution_count": 48,
   "metadata": {},
   "outputs": [
    {
     "data": {
      "text/plain": [
       "0.019737703221213657"
      ]
     },
     "execution_count": 48,
     "metadata": {},
     "output_type": "execute_result"
    }
   ],
   "source": []
  },
  {
   "cell_type": "code",
   "execution_count": null,
   "metadata": {},
   "outputs": [],
   "source": []
  }
 ],
 "metadata": {
  "kernelspec": {
   "display_name": "bitcoin_trader",
   "language": "python",
   "name": "python3"
  },
  "language_info": {
   "codemirror_mode": {
    "name": "ipython",
    "version": 3
   },
   "file_extension": ".py",
   "mimetype": "text/x-python",
   "name": "python",
   "nbconvert_exporter": "python",
   "pygments_lexer": "ipython3",
   "version": "3.8.16"
  },
  "orig_nbformat": 4,
  "vscode": {
   "interpreter": {
    "hash": "d183f58dbc3b39686f6ffa6b2449ee2f660be5d412544ee773add4f1dd75a44c"
   }
  }
 },
 "nbformat": 4,
 "nbformat_minor": 2
}
