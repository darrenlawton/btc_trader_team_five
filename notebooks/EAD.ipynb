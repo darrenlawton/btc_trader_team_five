{
 "cells": [
  {
   "cell_type": "code",
   "execution_count": 7,
   "metadata": {},
   "outputs": [],
   "source": [
    "import os\n",
    "os.chdir(os.path.abspath(os.path.join(os.getcwd() ,\"..\")))"
   ]
  },
  {
   "cell_type": "code",
   "execution_count": 13,
   "metadata": {},
   "outputs": [],
   "source": [
    "# Import libraries\n",
    "import src.data.sql_functions as sql\n",
    "import pandas as pd\n",
    "\n",
    "# Global variables\n",
    "DB_SERVER   = \"tcp:AUCLD04018656,1433\"\n",
    "DB_NAME     = \"team_five_aiml_group\""
   ]
  },
  {
   "cell_type": "code",
   "execution_count": 11,
   "metadata": {},
   "outputs": [
    {
     "data": {
      "text/plain": [
       "<bound method SqlDb.__del__ of <src.data.sql_functions.SqlDb object at 0x000002400B849C40>>"
      ]
     },
     "execution_count": 11,
     "metadata": {},
     "output_type": "execute_result"
    }
   ],
   "source": [
    "# Get market/supp data from database\n",
    "conn = sql.SqlDb(DB_SERVER, DB_NAME)\n",
    "get_query = 'SELECT * FROM [team_five_aiml_group].[dbo].[BTC_AUD_20130101_20230127] A LEFT JOIN [team_five_aiml_group].[dbo].BTC_SUPP_DATA_20130101_20230127 B ON A.mkt_Date = B.supp_date'\n",
    "test = pd.DataFrame(conn.query(get_query, True))\n",
    "conn.__del__"
   ]
  },
  {
   "cell_type": "code",
   "execution_count": 17,
   "metadata": {},
   "outputs": [
    {
     "name": "stdout",
     "output_type": "stream",
     "text": [
      "<pandas.core.indexing._LocIndexer object at 0x000002400E7E3EA0>\n"
     ]
    }
   ],
   "source": []
  }
 ],
 "metadata": {
  "kernelspec": {
   "display_name": "bitcoin_trader",
   "language": "python",
   "name": "python3"
  },
  "language_info": {
   "codemirror_mode": {
    "name": "ipython",
    "version": 3
   },
   "file_extension": ".py",
   "mimetype": "text/x-python",
   "name": "python",
   "nbconvert_exporter": "python",
   "pygments_lexer": "ipython3",
   "version": "3.8.16"
  },
  "orig_nbformat": 4,
  "vscode": {
   "interpreter": {
    "hash": "d183f58dbc3b39686f6ffa6b2449ee2f660be5d412544ee773add4f1dd75a44c"
   }
  }
 },
 "nbformat": 4,
 "nbformat_minor": 2
}
